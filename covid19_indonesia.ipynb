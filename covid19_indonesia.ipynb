{
  "nbformat": 4,
  "nbformat_minor": 0,
  "metadata": {
    "colab": {
      "name": "Untitled0.ipynb",
      "provenance": [],
      "collapsed_sections": [],
      "authorship_tag": "ABX9TyMHejFrZ+xE9ijRuKnP3a2H",
      "include_colab_link": true
    },
    "kernelspec": {
      "name": "python3",
      "display_name": "Python 3"
    },
    "language_info": {
      "name": "python"
    }
  },
  "cells": [
    {
      "cell_type": "markdown",
      "metadata": {
        "id": "view-in-github",
        "colab_type": "text"
      },
      "source": [
        "<a href=\"https://colab.research.google.com/github/roy1304/5x_test_python/blob/main/covid19_indonesia.ipynb\" target=\"_parent\"><img src=\"https://colab.research.google.com/assets/colab-badge.svg\" alt=\"Open In Colab\"/></a>"
      ]
    },
    {
      "cell_type": "code",
      "execution_count": 1,
      "metadata": {
        "id": "u4AE3zp6lLUJ"
      },
      "outputs": [],
      "source": [
        "import pandas as pd\n",
        "import datetime\n",
        "from google.colab import files\n",
        "\n"
      ]
    },
    {
      "cell_type": "markdown",
      "source": [
        "Importng the Google sheet as a pandas dataframe\n"
      ],
      "metadata": {
        "id": "KhFm-QavvYTJ"
      }
    },
    {
      "cell_type": "code",
      "source": [
        "df=pd.read_csv('https://docs.google.com/spreadsheets/d/1HtBIwV26vINfUDKC5meNsjyMZQHcQnUMXhSg8GXtwpk/export?format=csv&gid=1561871841')"
      ],
      "metadata": {
        "id": "EUr33F2xlOxV"
      },
      "execution_count": 2,
      "outputs": []
    },
    {
      "cell_type": "markdown",
      "source": [
        "Changing Date columntime from string to datetime"
      ],
      "metadata": {
        "id": "gzL-2RQuvXLf"
      }
    },
    {
      "cell_type": "code",
      "source": [
        "df['Date']=pd.to_datetime(df['Date'])"
      ],
      "metadata": {
        "id": "Uh3INySlqjgy"
      },
      "execution_count": 3,
      "outputs": []
    },
    {
      "cell_type": "code",
      "source": [
        "df.head(10)"
      ],
      "metadata": {
        "id": "-s_iwQMjluXa"
      },
      "execution_count": null,
      "outputs": []
    },
    {
      "cell_type": "code",
      "source": [
        "df.dtypes"
      ],
      "metadata": {
        "id": "Mf4x4HTkmJTZ"
      },
      "execution_count": null,
      "outputs": []
    },
    {
      "cell_type": "markdown",
      "source": [
        "Creating a table consisting countrywise daily stats."
      ],
      "metadata": {
        "id": "h7Ikfd0avp4I"
      }
    },
    {
      "cell_type": "code",
      "source": [
        "daily_stats_country=df[['Date','New Cases','Total Cases','New Deaths','Total Deaths']].loc[df['Location Level']=='Country'].sort_values(by=['Date'], ascending=True)\n",
        "#daily_stats_country=daily_stats_country.set_index('Date')\n",
        "daily_stats_country"
      ],
      "metadata": {
        "id": "7LWfk7FZoRqt"
      },
      "execution_count": null,
      "outputs": []
    },
    {
      "cell_type": "markdown",
      "source": [
        "Downloading the dataset as a csv file"
      ],
      "metadata": {
        "id": "fXT-JWmZQM_A"
      }
    },
    {
      "cell_type": "code",
      "source": [
        "daily_stats_country.to_csv(\"daily_stats_country.csv\")\n",
        "files.download(\"daily_stats_country.csv\")"
      ],
      "metadata": {
        "colab": {
          "base_uri": "https://localhost:8080/",
          "height": 17
        },
        "id": "BPq-5PC2-sDR",
        "outputId": "d9753bcf-7000-427b-834a-6ce39e459019"
      },
      "execution_count": 70,
      "outputs": [
        {
          "output_type": "display_data",
          "data": {
            "application/javascript": [
              "\n",
              "    async function download(id, filename, size) {\n",
              "      if (!google.colab.kernel.accessAllowed) {\n",
              "        return;\n",
              "      }\n",
              "      const div = document.createElement('div');\n",
              "      const label = document.createElement('label');\n",
              "      label.textContent = `Downloading \"${filename}\": `;\n",
              "      div.appendChild(label);\n",
              "      const progress = document.createElement('progress');\n",
              "      progress.max = size;\n",
              "      div.appendChild(progress);\n",
              "      document.body.appendChild(div);\n",
              "\n",
              "      const buffers = [];\n",
              "      let downloaded = 0;\n",
              "\n",
              "      const channel = await google.colab.kernel.comms.open(id);\n",
              "      // Send a message to notify the kernel that we're ready.\n",
              "      channel.send({})\n",
              "\n",
              "      for await (const message of channel.messages) {\n",
              "        // Send a message to notify the kernel that we're ready.\n",
              "        channel.send({})\n",
              "        if (message.buffers) {\n",
              "          for (const buffer of message.buffers) {\n",
              "            buffers.push(buffer);\n",
              "            downloaded += buffer.byteLength;\n",
              "            progress.value = downloaded;\n",
              "          }\n",
              "        }\n",
              "      }\n",
              "      const blob = new Blob(buffers, {type: 'application/binary'});\n",
              "      const a = document.createElement('a');\n",
              "      a.href = window.URL.createObjectURL(blob);\n",
              "      a.download = filename;\n",
              "      div.appendChild(a);\n",
              "      a.click();\n",
              "      div.remove();\n",
              "    }\n",
              "  "
            ],
            "text/plain": [
              "<IPython.core.display.Javascript object>"
            ]
          },
          "metadata": {}
        },
        {
          "output_type": "display_data",
          "data": {
            "application/javascript": [
              "download(\"download_660c1b41-ed00-4e6f-ba69-d9f84918911d\", \"daily_stats_country.csv\", 15642)"
            ],
            "text/plain": [
              "<IPython.core.display.Javascript object>"
            ]
          },
          "metadata": {}
        }
      ]
    },
    {
      "cell_type": "markdown",
      "source": [
        "Creating separate table for each of the provinces."
      ],
      "metadata": {
        "id": "ID0934pQ9a6I"
      }
    },
    {
      "cell_type": "code",
      "source": [
        "daily_stats_province=df[['Date','New Cases','Total Cases','New Deaths','Total Deaths','Province']].loc[df['Location Level']=='Province'].sort_values(by=['Date'],ascending=True).groupby(['Province'])\n",
        "daily_stats_province.get_group('Jawa Timur')"
      ],
      "metadata": {
        "id": "KXExWUs8vxY7"
      },
      "execution_count": null,
      "outputs": []
    },
    {
      "cell_type": "markdown",
      "source": [
        "Creating a column consisting months."
      ],
      "metadata": {
        "id": "MZeHXCk195uG"
      }
    },
    {
      "cell_type": "code",
      "source": [
        "daily_stats_country['Month'] = daily_stats_country['Date'].dt.strftime('%b-%Y')\n"
      ],
      "metadata": {
        "id": "9kQF31yL8cq2"
      },
      "execution_count": 9,
      "outputs": []
    },
    {
      "cell_type": "markdown",
      "source": [
        "Creating a table consisting month wise data"
      ],
      "metadata": {
        "id": "bQJH0w6H-ByG"
      }
    },
    {
      "cell_type": "code",
      "source": [
        "month_wise_data=daily_stats_country.groupby('Month')[['New Cases','New Deaths']].sum().sort_values(by='Month')\n",
        "month_wise_data.columns=['Cases','Deaths']\n",
        "month_wise_data['m']=month_wise_data.index\n",
        "month_wise_data['m']=pd.to_datetime(month_wise_data['m'],format='%b-%Y')\n",
        "month_wise_data=month_wise_data.sort_values(by=['m'])\n",
        "del month_wise_data['m']\n",
        "month_wise_data.to_csv(\"month_wise_data.csv\")\n",
        "files.download(\"month_wise_data.csv\")\n",
        "\n"
      ],
      "metadata": {
        "colab": {
          "base_uri": "https://localhost:8080/",
          "height": 17
        },
        "id": "S4Q1JZp39B7B",
        "outputId": "d5316cdb-7d13-431d-b27a-c3111999ecc7"
      },
      "execution_count": 57,
      "outputs": [
        {
          "output_type": "display_data",
          "data": {
            "application/javascript": [
              "\n",
              "    async function download(id, filename, size) {\n",
              "      if (!google.colab.kernel.accessAllowed) {\n",
              "        return;\n",
              "      }\n",
              "      const div = document.createElement('div');\n",
              "      const label = document.createElement('label');\n",
              "      label.textContent = `Downloading \"${filename}\": `;\n",
              "      div.appendChild(label);\n",
              "      const progress = document.createElement('progress');\n",
              "      progress.max = size;\n",
              "      div.appendChild(progress);\n",
              "      document.body.appendChild(div);\n",
              "\n",
              "      const buffers = [];\n",
              "      let downloaded = 0;\n",
              "\n",
              "      const channel = await google.colab.kernel.comms.open(id);\n",
              "      // Send a message to notify the kernel that we're ready.\n",
              "      channel.send({})\n",
              "\n",
              "      for await (const message of channel.messages) {\n",
              "        // Send a message to notify the kernel that we're ready.\n",
              "        channel.send({})\n",
              "        if (message.buffers) {\n",
              "          for (const buffer of message.buffers) {\n",
              "            buffers.push(buffer);\n",
              "            downloaded += buffer.byteLength;\n",
              "            progress.value = downloaded;\n",
              "          }\n",
              "        }\n",
              "      }\n",
              "      const blob = new Blob(buffers, {type: 'application/binary'});\n",
              "      const a = document.createElement('a');\n",
              "      a.href = window.URL.createObjectURL(blob);\n",
              "      a.download = filename;\n",
              "      div.appendChild(a);\n",
              "      a.click();\n",
              "      div.remove();\n",
              "    }\n",
              "  "
            ],
            "text/plain": [
              "<IPython.core.display.Javascript object>"
            ]
          },
          "metadata": {}
        },
        {
          "output_type": "display_data",
          "data": {
            "application/javascript": [
              "download(\"download_cf00839c-5b47-4da3-929b-c56cbd3f4143\", \"month_wise_data.csv\", 365)"
            ],
            "text/plain": [
              "<IPython.core.display.Javascript object>"
            ]
          },
          "metadata": {}
        }
      ]
    },
    {
      "cell_type": "markdown",
      "source": [
        "creating a table consisting death rate of all the provinces"
      ],
      "metadata": {
        "id": "8tEQ05xl-WAt"
      }
    },
    {
      "cell_type": "code",
      "source": [
        "death_rate_region=df.loc[df['Location Level']=='Province'].groupby(['Province'])[['New Cases','New Deaths']].sum()\n",
        "death_rate_region.columns=['Total Cases','Total Deaths']\n",
        "death_rate_region['Death Rate']=death_rate_region['Total Deaths']/death_rate_region['Total Cases']\n",
        "death_rate_region.to_csv(\"death_rate_region.csv\")\n",
        "files.download(\"death_rate_region.csv\")\n"
      ],
      "metadata": {
        "colab": {
          "base_uri": "https://localhost:8080/",
          "height": 17
        },
        "id": "i2N5ennEziRP",
        "outputId": "bc990193-ac5c-48bb-d041-dcbfcd8567bd"
      },
      "execution_count": 10,
      "outputs": [
        {
          "output_type": "display_data",
          "data": {
            "application/javascript": [
              "\n",
              "    async function download(id, filename, size) {\n",
              "      if (!google.colab.kernel.accessAllowed) {\n",
              "        return;\n",
              "      }\n",
              "      const div = document.createElement('div');\n",
              "      const label = document.createElement('label');\n",
              "      label.textContent = `Downloading \"${filename}\": `;\n",
              "      div.appendChild(label);\n",
              "      const progress = document.createElement('progress');\n",
              "      progress.max = size;\n",
              "      div.appendChild(progress);\n",
              "      document.body.appendChild(div);\n",
              "\n",
              "      const buffers = [];\n",
              "      let downloaded = 0;\n",
              "\n",
              "      const channel = await google.colab.kernel.comms.open(id);\n",
              "      // Send a message to notify the kernel that we're ready.\n",
              "      channel.send({})\n",
              "\n",
              "      for await (const message of channel.messages) {\n",
              "        // Send a message to notify the kernel that we're ready.\n",
              "        channel.send({})\n",
              "        if (message.buffers) {\n",
              "          for (const buffer of message.buffers) {\n",
              "            buffers.push(buffer);\n",
              "            downloaded += buffer.byteLength;\n",
              "            progress.value = downloaded;\n",
              "          }\n",
              "        }\n",
              "      }\n",
              "      const blob = new Blob(buffers, {type: 'application/binary'});\n",
              "      const a = document.createElement('a');\n",
              "      a.href = window.URL.createObjectURL(blob);\n",
              "      a.download = filename;\n",
              "      div.appendChild(a);\n",
              "      a.click();\n",
              "      div.remove();\n",
              "    }\n",
              "  "
            ],
            "text/plain": [
              "<IPython.core.display.Javascript object>"
            ]
          },
          "metadata": {}
        },
        {
          "output_type": "display_data",
          "data": {
            "application/javascript": [
              "download(\"download_c0b07a99-ae41-4689-b7f4-696d78dc2e71\", \"death_rate_region.csv\", 1525)"
            ],
            "text/plain": [
              "<IPython.core.display.Javascript object>"
            ]
          },
          "metadata": {}
        }
      ]
    },
    {
      "cell_type": "code",
      "source": [
        ""
      ],
      "metadata": {
        "id": "ezftLLTB_SZ9"
      },
      "execution_count": null,
      "outputs": []
    }
  ]
}